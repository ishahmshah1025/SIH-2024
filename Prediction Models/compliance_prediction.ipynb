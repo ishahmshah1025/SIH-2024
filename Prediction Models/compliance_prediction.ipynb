{
  "cells": [
    {
      "cell_type": "markdown",
      "metadata": {
        "id": "view-in-github",
        "colab_type": "text"
      },
      "source": [
        "<a href=\"https://colab.research.google.com/github/ishahmshah1025/SIH-2024/blob/main/Prediction%20Models/compliance_prediction.ipynb\" target=\"_parent\"><img src=\"https://colab.research.google.com/assets/colab-badge.svg\" alt=\"Open In Colab\"/></a>"
      ]
    },
    {
      "cell_type": "code",
      "execution_count": null,
      "metadata": {
        "colab": {
          "background_save": true,
          "base_uri": "https://localhost:8080/"
        },
        "id": "M6ZqMmpONy7Z",
        "outputId": "49b5459c-b293-47db-a41c-e2bbf62db197"
      },
      "outputs": [
        {
          "name": "stdout",
          "output_type": "stream",
          "text": [
            "label\n",
            "0    952\n",
            "1     48\n",
            "Name: count, dtype: int64\n",
            "label\n",
            "0    952\n",
            "1    952\n",
            "Name: count, dtype: int64\n"
          ]
        },
        {
          "name": "stderr",
          "output_type": "stream",
          "text": [
            "/usr/local/lib/python3.10/dist-packages/xgboost/core.py:158: UserWarning: [07:45:07] WARNING: /workspace/src/learner.cc:740: \n",
            "Parameters: { \"use_label_encoder\" } are not used.\n",
            "\n",
            "  warnings.warn(smsg, UserWarning)\n"
          ]
        },
        {
          "name": "stdout",
          "output_type": "stream",
          "text": [
            "Best Parameters: {'colsample_bytree': 0.8, 'learning_rate': 0.2, 'max_depth': 7, 'n_estimators': 100, 'scale_pos_weight': 1, 'subsample': 1.0}\n",
            "Best Cross-Validation Score: 0.9947452901917714\n",
            "\n",
            "Test Accuracy: 0.9912587412587412\n",
            "\n",
            "Classification Report:\n",
            "               precision    recall  f1-score   support\n",
            "\n",
            "           0       1.00      0.98      0.99       284\n",
            "           1       0.98      1.00      0.99       288\n",
            "\n",
            "    accuracy                           0.99       572\n",
            "   macro avg       0.99      0.99      0.99       572\n",
            "weighted avg       0.99      0.99      0.99       572\n",
            "\n",
            "\n",
            "Confusion Matrix:\n",
            " [[279   5]\n",
            " [  0 288]]\n",
            "\n",
            "Enter the following details to predict compliance status:\n"
          ]
        }
      ],
      "source": [
        "\n",
        "import numpy as np\n",
        "import pandas as pd\n",
        "from xgboost import XGBClassifier\n",
        "from sklearn.model_selection import train_test_split, GridSearchCV\n",
        "from sklearn.metrics import classification_report, accuracy_score, confusion_matrix\n",
        "from sklearn.utils import resample\n",
        "\n",
        "np.random.seed(42)\n",
        "\n",
        "n_samples = 1000\n",
        "data = {\n",
        "    'infrastructure_quality': np.random.randint(1, 10, n_samples),\n",
        "    'faculty_qualifications': np.random.randint(1, 10, n_samples),\n",
        "    'student_performance': np.random.randint(1, 10, n_samples),\n",
        "    'financial_stability': np.random.randint(1, 10, n_samples),\n",
        "    'inspection_score': np.random.randint(1, 10, n_samples),  # Scale 1-10\n",
        "}\n",
        "\n",
        "# Label 0: Non-compliant, Label 1: Compliant\n",
        "threshold = 7\n",
        "labels = (\n",
        "    (data['infrastructure_quality'] + data['faculty_qualifications'] +\n",
        "     data['student_performance'] + data['financial_stability'] +\n",
        "     data['inspection_score']) / 5 >= threshold\n",
        ").astype(int)\n",
        "\n",
        "# Create a DataFrame from the data\n",
        "df = pd.DataFrame(data)\n",
        "df['label'] = labels\n",
        "\n",
        "\n",
        "print(df['label'].value_counts())\n",
        "\n",
        "# Balancing the dataset by oversampling the minority class\n",
        "df_majority = df[df['label'] == 0]\n",
        "df_minority = df[df['label'] == 1]\n",
        "\n",
        "df_minority_upsampled = resample(df_minority,\n",
        "                                 replace=True,  # sample with replacement\n",
        "                                 n_samples=len(df_majority),  # match majority class\n",
        "                                 random_state=42)  # reproducible results\n",
        "\n",
        "# Combine majority class with upsampled minority class\n",
        "df_balanced = pd.concat([df_majority, df_minority_upsampled])\n",
        "\n",
        "# Display new class counts\n",
        "print(df_balanced['label'].value_counts())\n",
        "\n",
        "X = df_balanced.drop('label', axis=1)\n",
        "y = df_balanced['label']\n",
        "\n",
        "X_train, X_test, y_train, y_test = train_test_split(X, y, test_size=0.3, random_state=42)\n",
        "\n",
        "param_grid = {\n",
        "    'n_estimators': [100, 200, 300],\n",
        "    'max_depth': [3, 5, 7, 10],\n",
        "    'learning_rate': [0.01, 0.1, 0.2],\n",
        "    'subsample': [0.8, 0.9, 1.0],\n",
        "    'colsample_bytree': [0.8, 0.9, 1.0],\n",
        "    'scale_pos_weight': [1, 2, 5]\n",
        "}\n",
        "\n",
        "xgb_model = XGBClassifier(random_state=42, use_label_encoder=False, eval_metric='logloss')\n",
        "\n",
        "grid_search = GridSearchCV(estimator=xgb_model, param_grid=param_grid, cv=5, scoring='accuracy', n_jobs=-1)\n",
        "grid_search.fit(X_train, y_train)\n",
        "\n",
        "print(\"Best Parameters:\", grid_search.best_params_)\n",
        "print(\"Best Cross-Validation Score:\", grid_search.best_score_)\n",
        "\n",
        "best_xgb_model = grid_search.best_estimator_\n",
        "y_pred = best_xgb_model.predict(X_test)\n",
        "\n",
        "\n",
        "accuracy = accuracy_score(y_test, y_pred)\n",
        "class_report = classification_report(y_test, y_pred)\n",
        "conf_matrix = confusion_matrix(y_test, y_pred)\n",
        "\n",
        "print(\"\\nTest Accuracy:\", accuracy)\n",
        "print(\"\\nClassification Report:\\n\", class_report)\n",
        "print(\"\\nConfusion Matrix:\\n\", conf_matrix)\n",
        "\n",
        "# gridsearch cv\n",
        "def predict_compliance():\n",
        "    print(\"\\nEnter the following details to predict compliance status:\")\n",
        "    infrastructure_quality = int(input(\"Infrastructure Quality (1-10): \"))\n",
        "    faculty_qualifications = int(input(\"Faculty Qualifications (1-10): \"))\n",
        "    student_performance = int(input(\"Student Performance (1-10): \"))\n",
        "    financial_stability = int(input(\"Financial Stability (1-10): \"))\n",
        "    inspection_score = int(input(\"Inspection Score (1-10): \"))\n",
        "\n",
        "    # input part\n",
        "    input_data = pd.DataFrame({\n",
        "        'infrastructure_quality': [infrastructure_quality],\n",
        "        'faculty_qualifications': [faculty_qualifications],\n",
        "        'student_performance': [student_performance],\n",
        "        'financial_stability': [financial_stability],\n",
        "        'inspection_score': [inspection_score]\n",
        "    })\n",
        "\n",
        "\n",
        "    prediction = best_xgb_model.predict(input_data)[0]\n",
        "\n",
        "    # Output\n",
        "    status = \"Compliant\" if prediction == 1 else \"Non-compliant\"\n",
        "    print(f\"\\nThe institution is predicted to be: {status}\")\n",
        "\n",
        "\n",
        "predict_compliance()\n"
      ]
    }
  ],
  "metadata": {
    "colab": {
      "provenance": [],
      "include_colab_link": true
    },
    "kernelspec": {
      "display_name": "Python 3",
      "name": "python3"
    },
    "language_info": {
      "name": "python"
    }
  },
  "nbformat": 4,
  "nbformat_minor": 0
}